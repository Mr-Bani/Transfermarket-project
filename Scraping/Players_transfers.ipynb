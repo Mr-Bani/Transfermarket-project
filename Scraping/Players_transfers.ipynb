{
 "cells": [
  {
   "cell_type": "code",
   "execution_count": 3,
   "metadata": {},
   "outputs": [
    {
     "ename": "FileNotFoundError",
     "evalue": "[Errno 2] No such file or directory: 'players__transfers_links.json'",
     "output_type": "error",
     "traceback": [
      "\u001b[1;31m---------------------------------------------------------------------------\u001b[0m",
      "\u001b[1;31mFileNotFoundError\u001b[0m                         Traceback (most recent call last)",
      "Cell \u001b[1;32mIn[3], line 11\u001b[0m\n\u001b[0;32m      4\u001b[0m \u001b[39mimport\u001b[39;00m \u001b[39mjson\u001b[39;00m\n\u001b[0;32m      6\u001b[0m header \u001b[39m=\u001b[39m {\n\u001b[0;32m      7\u001b[0m     \u001b[39m\"\u001b[39m\u001b[39muser-agent\u001b[39m\u001b[39m\"\u001b[39m : \u001b[39m\"\u001b[39m\u001b[39mMozilla/5.0 (Windows NT 10.0; Win64; x64) AppleWebKit/537.36 (KHTML, like Gecko) Chrome/112.0.0.0 Safari/537.36\u001b[39m\u001b[39m\"\u001b[39m,\n\u001b[0;32m      8\u001b[0m     \u001b[39m'\u001b[39m\u001b[39mAccept-Language\u001b[39m\u001b[39m'\u001b[39m: \u001b[39m'\u001b[39m\u001b[39men\u001b[39m\u001b[39m'\u001b[39m\n\u001b[0;32m      9\u001b[0m }\n\u001b[1;32m---> 11\u001b[0m \u001b[39mwith\u001b[39;00m \u001b[39mopen\u001b[39;49m(\u001b[39m'\u001b[39;49m\u001b[39mplayers__transfers_links.json\u001b[39;49m\u001b[39m'\u001b[39;49m) \u001b[39mas\u001b[39;00m f:\n\u001b[0;32m     12\u001b[0m     data \u001b[39m=\u001b[39m json\u001b[39m.\u001b[39mload(f)\n\u001b[0;32m     14\u001b[0m counter \u001b[39m=\u001b[39m \u001b[39m1\u001b[39m\n",
      "File \u001b[1;32me:\\BootCamp\\qenv\\lib\\site-packages\\IPython\\core\\interactiveshell.py:284\u001b[0m, in \u001b[0;36m_modified_open\u001b[1;34m(file, *args, **kwargs)\u001b[0m\n\u001b[0;32m    277\u001b[0m \u001b[39mif\u001b[39;00m file \u001b[39min\u001b[39;00m {\u001b[39m0\u001b[39m, \u001b[39m1\u001b[39m, \u001b[39m2\u001b[39m}:\n\u001b[0;32m    278\u001b[0m     \u001b[39mraise\u001b[39;00m \u001b[39mValueError\u001b[39;00m(\n\u001b[0;32m    279\u001b[0m         \u001b[39mf\u001b[39m\u001b[39m\"\u001b[39m\u001b[39mIPython won\u001b[39m\u001b[39m'\u001b[39m\u001b[39mt let you open fd=\u001b[39m\u001b[39m{\u001b[39;00mfile\u001b[39m}\u001b[39;00m\u001b[39m by default \u001b[39m\u001b[39m\"\u001b[39m\n\u001b[0;32m    280\u001b[0m         \u001b[39m\"\u001b[39m\u001b[39mas it is likely to crash IPython. If you know what you are doing, \u001b[39m\u001b[39m\"\u001b[39m\n\u001b[0;32m    281\u001b[0m         \u001b[39m\"\u001b[39m\u001b[39myou can use builtins\u001b[39m\u001b[39m'\u001b[39m\u001b[39m open.\u001b[39m\u001b[39m\"\u001b[39m\n\u001b[0;32m    282\u001b[0m     )\n\u001b[1;32m--> 284\u001b[0m \u001b[39mreturn\u001b[39;00m io_open(file, \u001b[39m*\u001b[39;49margs, \u001b[39m*\u001b[39;49m\u001b[39m*\u001b[39;49mkwargs)\n",
      "\u001b[1;31mFileNotFoundError\u001b[0m: [Errno 2] No such file or directory: 'players__transfers_links.json'"
     ]
    }
   ],
   "source": [
    "import requests\n",
    "from http.client import responses\n",
    "from bs4 import BeautifulSoup\n",
    "import json\n",
    "\n",
    "header = {\n",
    "    \"user-agent\" : \"Mozilla/5.0 (Windows NT 10.0; Win64; x64) AppleWebKit/537.36 (KHTML, like Gecko) Chrome/112.0.0.0 Safari/537.36\",\n",
    "    'Accept-Language': 'en'\n",
    "}\n",
    "\n",
    "with open('players__transfers_links.json') as f:\n",
    "    data = json.load(f)\n",
    "\n",
    "counter = 1\n",
    "players = []\n",
    "saison_id = {'21/22':2021, '20/21':2020, '19/20':2019, '18/19':2018, '17/18':2017, '16/17':2016, '15/16':2015}\n",
    "\n",
    "for link in data:\n",
    "    page = requests.get(link, headers = header)\n",
    "    soup = BeautifulSoup(page.content, 'html.parser')\n",
    "\n",
    "    finder = []\n",
    "\n",
    "    for l in soup.select('.tm-player-transfer-history-grid__season, .tm-player-transfer-history-grid__old-club, .tm-player-transfer-history-grid__new-club, .tm-player-transfer-history-grid__fee'):\n",
    "        if l.text.split() not in ['Fee', 'Season']:\n",
    "            finder.append(l.text.split())\n",
    "    del finder[:4]\n",
    "    ll = {}\n",
    "    for x in range(0,len(finder)-3,4):\n",
    "        if len(finder[x]) == 0:\n",
    "            finder[x] = ['Unknown']\n",
    "        if len(finder[x+1]) == 0:\n",
    "            finder[x+1] = ['Unknown']\n",
    "        if len(finder[x+2]) == 0:\n",
    "            finder[x+2] = ['Unknown']\n",
    "        if len(finder[x+3]) == 0:\n",
    "            finder[x+3] = ['Unknown']\n",
    "        g0 = str(finder[x][0])\n",
    "        g1 = str(finder[x+1][0])\n",
    "        g2 = str(finder[x+2][0])\n",
    "        g3 = str(finder[x+3][0])\n",
    "        if g0 not in saison_id.keys():\n",
    "            continue\n",
    "        if len(finder[x+1])>1:\n",
    "            g1 = ''\n",
    "            for y1 in finder[x+1]:\n",
    "                g1 += y1 + ' '\n",
    "        if len(finder[x+2])>1:\n",
    "            g2 = ''\n",
    "            for y2 in finder[x+2]:\n",
    "                g2 += y2 + ' '\n",
    "        if len(finder[x+3])>1:\n",
    "            g3 = ''\n",
    "            for y3 in finder[x+3]:\n",
    "                g3 += y3 + ' '\n",
    "        k = {'Season':g0, 'From_club':g1, 'To_club':g2, 'Fee':g3}\n",
    "        ll.append(k)\n",
    "        percent = (counter/len(data))*100\n",
    "        print(f'{percent}' + '%')\n",
    "        print(ll)\n",
    "        counter += 1\n",
    "    \n",
    "    for r in ll:\n",
    "        players[link.split('/')[-4]] = {'id':link.split('/')[-1], 'Season':r[0], 'From_club':r[1], 'To_club':r[2], 'Fee':r[3]}\n",
    "    \n",
    "\n",
    "\n"
   ]
  },
  {
   "cell_type": "code",
   "execution_count": null,
   "metadata": {},
   "outputs": [],
   "source": [
    "with open(\"players_transfers.json\", \"w\") as f1:\n",
    "    json.dump(players, f1) \n"
   ]
  },
  {
   "cell_type": "code",
   "execution_count": 2,
   "metadata": {},
   "outputs": [
    {
     "name": "stdout",
     "output_type": "stream",
     "text": [
      "1%\n"
     ]
    }
   ],
   "source": [
    "lo = 1 \n",
    "print(f'{lo}' + '%')"
   ]
  }
 ],
 "metadata": {
  "kernelspec": {
   "display_name": "qenv",
   "language": "python",
   "name": "python3"
  },
  "language_info": {
   "codemirror_mode": {
    "name": "ipython",
    "version": 3
   },
   "file_extension": ".py",
   "mimetype": "text/x-python",
   "name": "python",
   "nbconvert_exporter": "python",
   "pygments_lexer": "ipython3",
   "version": "3.8.0"
  },
  "orig_nbformat": 4,
  "vscode": {
   "interpreter": {
    "hash": "7d36610959e44f9ba4df3ae08ec40e463a3af578e1b8c96f4ed53cca846917dc"
   }
  }
 },
 "nbformat": 4,
 "nbformat_minor": 2
}
